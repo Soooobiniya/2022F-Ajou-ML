{
  "cells": [
    {
      "cell_type": "markdown",
      "metadata": {
        "id": "view-in-github",
        "colab_type": "text"
      },
      "source": [
        "<a href=\"https://colab.research.google.com/github/Soooobiniya/2022F-Ajou-ML/blob/main/HW3_ipynb%EC%9D%98_%EC%82%AC%EB%B3%B8.ipynb\" target=\"_parent\"><img src=\"https://colab.research.google.com/assets/colab-badge.svg\" alt=\"Open In Colab\"/></a>"
      ]
    },
    {
      "cell_type": "markdown",
      "metadata": {
        "id": "m1rbIpJvJD_m"
      },
      "source": [
        "# **HW3 :: Parameter Tuning and Classifcation**"
      ]
    },
    {
      "cell_type": "markdown",
      "metadata": {
        "id": "6c34x6aJI_kE"
      },
      "source": [
        "## 코랩과 구글 드라이브 연동 OR 로컬에서 파일 업로드\n",
        "- 해당 섹션 코드 수정 가능"
      ]
    },
    {
      "cell_type": "code",
      "execution_count": 1,
      "metadata": {
        "id": "PLXjmIbsJMlk"
      },
      "outputs": [],
      "source": [
        "# 연동 OR 파일 업로드\n",
        "# 연동 시 path 설정 주의"
      ]
    },
    {
      "cell_type": "code",
      "execution_count": 2,
      "metadata": {
        "id": "4VXRY6hDJ60i",
        "colab": {
          "base_uri": "https://localhost:8080/"
        },
        "outputId": "64487292-b14c-4880-d98d-12be3cc07ad0"
      },
      "outputs": [
        {
          "output_type": "stream",
          "name": "stdout",
          "text": [
            "Mounted at /content/drive\n"
          ]
        }
      ],
      "source": [
        "from google.colab import drive\n",
        "drive.mount('/content/drive')"
      ]
    },
    {
      "cell_type": "markdown",
      "metadata": {
        "id": "HR6Kw9YhJV8A"
      },
      "source": [
        "## 데이터 불러오기"
      ]
    },
    {
      "cell_type": "code",
      "execution_count": 3,
      "metadata": {
        "id": "29BsCuUtKjKA"
      },
      "outputs": [],
      "source": [
        "import numpy as np\n",
        "import pandas as pd"
      ]
    },
    {
      "cell_type": "code",
      "execution_count": 4,
      "metadata": {
        "id": "e6BsnGgg4Zle"
      },
      "outputs": [],
      "source": [
        "df = pd.read_csv('/content/drive/MyDrive/airline_sampled2.csv') \n",
        "# HW1에서 사용한 데이터를 샘플링한 파일이므로 꼭 제공된 csv 파일을 사용할 것"
      ]
    },
    {
      "cell_type": "code",
      "execution_count": 5,
      "metadata": {
        "id": "XyXXUUUv4Zlf",
        "colab": {
          "base_uri": "https://localhost:8080/",
          "height": 352
        },
        "outputId": "c849d4cc-1ae7-4f4c-9bf7-e4f177a43d14"
      },
      "outputs": [
        {
          "output_type": "execute_result",
          "data": {
            "text/plain": [
              "   Unnamed: 0  Unnamed: 0.1  Gender  Customer Type  Age  Type of Travel  \\\n",
              "0        8827          8858       0              1   27               1   \n",
              "1        3588          3601       1              0   22               1   \n",
              "2        1011          1017       0              0   23               1   \n",
              "3        7212          7237       1              0   21               1   \n",
              "4        5025          5044       1              1   67               0   \n",
              "\n",
              "   Class  Flight Distance  Inflight wifi service  \\\n",
              "0      2              183                      4   \n",
              "1      0              829                      2   \n",
              "2      2             1020                      4   \n",
              "3      0             1028                      4   \n",
              "4      0              626                      3   \n",
              "\n",
              "   Departure/Arrival time convenient  ...  Inflight entertainment  \\\n",
              "0                                  4  ...                       5   \n",
              "1                                  3  ...                       1   \n",
              "2                                  5  ...                       4   \n",
              "3                                  4  ...                       3   \n",
              "4                                  4  ...                       2   \n",
              "\n",
              "   On-board service  Leg room service  Baggage handling  Checkin service  \\\n",
              "0                 4                 3                 4                3   \n",
              "1                 1                 3                 3                3   \n",
              "2                 3                 4                 5                3   \n",
              "3                 3                 3                 2                5   \n",
              "4                 2                 3                 2                5   \n",
              "\n",
              "   Inflight service  Cleanliness  Departure Delay in Minutes  \\\n",
              "0                 4            5                           0   \n",
              "1                 3            1                           4   \n",
              "2                 5            4                           0   \n",
              "3                 4            3                           0   \n",
              "4                 2            3                           0   \n",
              "\n",
              "   Arrival Delay in Minutes  satisfaction  \n",
              "0                       7.0             0  \n",
              "1                       4.0             0  \n",
              "2                       0.0             1  \n",
              "3                       0.0             1  \n",
              "4                       0.0             0  \n",
              "\n",
              "[5 rows x 25 columns]"
            ],
            "text/html": [
              "\n",
              "  <div id=\"df-5fba7d0f-3458-4212-9bc6-a44b7755e75b\">\n",
              "    <div class=\"colab-df-container\">\n",
              "      <div>\n",
              "<style scoped>\n",
              "    .dataframe tbody tr th:only-of-type {\n",
              "        vertical-align: middle;\n",
              "    }\n",
              "\n",
              "    .dataframe tbody tr th {\n",
              "        vertical-align: top;\n",
              "    }\n",
              "\n",
              "    .dataframe thead th {\n",
              "        text-align: right;\n",
              "    }\n",
              "</style>\n",
              "<table border=\"1\" class=\"dataframe\">\n",
              "  <thead>\n",
              "    <tr style=\"text-align: right;\">\n",
              "      <th></th>\n",
              "      <th>Unnamed: 0</th>\n",
              "      <th>Unnamed: 0.1</th>\n",
              "      <th>Gender</th>\n",
              "      <th>Customer Type</th>\n",
              "      <th>Age</th>\n",
              "      <th>Type of Travel</th>\n",
              "      <th>Class</th>\n",
              "      <th>Flight Distance</th>\n",
              "      <th>Inflight wifi service</th>\n",
              "      <th>Departure/Arrival time convenient</th>\n",
              "      <th>...</th>\n",
              "      <th>Inflight entertainment</th>\n",
              "      <th>On-board service</th>\n",
              "      <th>Leg room service</th>\n",
              "      <th>Baggage handling</th>\n",
              "      <th>Checkin service</th>\n",
              "      <th>Inflight service</th>\n",
              "      <th>Cleanliness</th>\n",
              "      <th>Departure Delay in Minutes</th>\n",
              "      <th>Arrival Delay in Minutes</th>\n",
              "      <th>satisfaction</th>\n",
              "    </tr>\n",
              "  </thead>\n",
              "  <tbody>\n",
              "    <tr>\n",
              "      <th>0</th>\n",
              "      <td>8827</td>\n",
              "      <td>8858</td>\n",
              "      <td>0</td>\n",
              "      <td>1</td>\n",
              "      <td>27</td>\n",
              "      <td>1</td>\n",
              "      <td>2</td>\n",
              "      <td>183</td>\n",
              "      <td>4</td>\n",
              "      <td>4</td>\n",
              "      <td>...</td>\n",
              "      <td>5</td>\n",
              "      <td>4</td>\n",
              "      <td>3</td>\n",
              "      <td>4</td>\n",
              "      <td>3</td>\n",
              "      <td>4</td>\n",
              "      <td>5</td>\n",
              "      <td>0</td>\n",
              "      <td>7.0</td>\n",
              "      <td>0</td>\n",
              "    </tr>\n",
              "    <tr>\n",
              "      <th>1</th>\n",
              "      <td>3588</td>\n",
              "      <td>3601</td>\n",
              "      <td>1</td>\n",
              "      <td>0</td>\n",
              "      <td>22</td>\n",
              "      <td>1</td>\n",
              "      <td>0</td>\n",
              "      <td>829</td>\n",
              "      <td>2</td>\n",
              "      <td>3</td>\n",
              "      <td>...</td>\n",
              "      <td>1</td>\n",
              "      <td>1</td>\n",
              "      <td>3</td>\n",
              "      <td>3</td>\n",
              "      <td>3</td>\n",
              "      <td>3</td>\n",
              "      <td>1</td>\n",
              "      <td>4</td>\n",
              "      <td>4.0</td>\n",
              "      <td>0</td>\n",
              "    </tr>\n",
              "    <tr>\n",
              "      <th>2</th>\n",
              "      <td>1011</td>\n",
              "      <td>1017</td>\n",
              "      <td>0</td>\n",
              "      <td>0</td>\n",
              "      <td>23</td>\n",
              "      <td>1</td>\n",
              "      <td>2</td>\n",
              "      <td>1020</td>\n",
              "      <td>4</td>\n",
              "      <td>5</td>\n",
              "      <td>...</td>\n",
              "      <td>4</td>\n",
              "      <td>3</td>\n",
              "      <td>4</td>\n",
              "      <td>5</td>\n",
              "      <td>3</td>\n",
              "      <td>5</td>\n",
              "      <td>4</td>\n",
              "      <td>0</td>\n",
              "      <td>0.0</td>\n",
              "      <td>1</td>\n",
              "    </tr>\n",
              "    <tr>\n",
              "      <th>3</th>\n",
              "      <td>7212</td>\n",
              "      <td>7237</td>\n",
              "      <td>1</td>\n",
              "      <td>0</td>\n",
              "      <td>21</td>\n",
              "      <td>1</td>\n",
              "      <td>0</td>\n",
              "      <td>1028</td>\n",
              "      <td>4</td>\n",
              "      <td>4</td>\n",
              "      <td>...</td>\n",
              "      <td>3</td>\n",
              "      <td>3</td>\n",
              "      <td>3</td>\n",
              "      <td>2</td>\n",
              "      <td>5</td>\n",
              "      <td>4</td>\n",
              "      <td>3</td>\n",
              "      <td>0</td>\n",
              "      <td>0.0</td>\n",
              "      <td>1</td>\n",
              "    </tr>\n",
              "    <tr>\n",
              "      <th>4</th>\n",
              "      <td>5025</td>\n",
              "      <td>5044</td>\n",
              "      <td>1</td>\n",
              "      <td>1</td>\n",
              "      <td>67</td>\n",
              "      <td>0</td>\n",
              "      <td>0</td>\n",
              "      <td>626</td>\n",
              "      <td>3</td>\n",
              "      <td>4</td>\n",
              "      <td>...</td>\n",
              "      <td>2</td>\n",
              "      <td>2</td>\n",
              "      <td>3</td>\n",
              "      <td>2</td>\n",
              "      <td>5</td>\n",
              "      <td>2</td>\n",
              "      <td>3</td>\n",
              "      <td>0</td>\n",
              "      <td>0.0</td>\n",
              "      <td>0</td>\n",
              "    </tr>\n",
              "  </tbody>\n",
              "</table>\n",
              "<p>5 rows × 25 columns</p>\n",
              "</div>\n",
              "      <button class=\"colab-df-convert\" onclick=\"convertToInteractive('df-5fba7d0f-3458-4212-9bc6-a44b7755e75b')\"\n",
              "              title=\"Convert this dataframe to an interactive table.\"\n",
              "              style=\"display:none;\">\n",
              "        \n",
              "  <svg xmlns=\"http://www.w3.org/2000/svg\" height=\"24px\"viewBox=\"0 0 24 24\"\n",
              "       width=\"24px\">\n",
              "    <path d=\"M0 0h24v24H0V0z\" fill=\"none\"/>\n",
              "    <path d=\"M18.56 5.44l.94 2.06.94-2.06 2.06-.94-2.06-.94-.94-2.06-.94 2.06-2.06.94zm-11 1L8.5 8.5l.94-2.06 2.06-.94-2.06-.94L8.5 2.5l-.94 2.06-2.06.94zm10 10l.94 2.06.94-2.06 2.06-.94-2.06-.94-.94-2.06-.94 2.06-2.06.94z\"/><path d=\"M17.41 7.96l-1.37-1.37c-.4-.4-.92-.59-1.43-.59-.52 0-1.04.2-1.43.59L10.3 9.45l-7.72 7.72c-.78.78-.78 2.05 0 2.83L4 21.41c.39.39.9.59 1.41.59.51 0 1.02-.2 1.41-.59l7.78-7.78 2.81-2.81c.8-.78.8-2.07 0-2.86zM5.41 20L4 18.59l7.72-7.72 1.47 1.35L5.41 20z\"/>\n",
              "  </svg>\n",
              "      </button>\n",
              "      \n",
              "  <style>\n",
              "    .colab-df-container {\n",
              "      display:flex;\n",
              "      flex-wrap:wrap;\n",
              "      gap: 12px;\n",
              "    }\n",
              "\n",
              "    .colab-df-convert {\n",
              "      background-color: #E8F0FE;\n",
              "      border: none;\n",
              "      border-radius: 50%;\n",
              "      cursor: pointer;\n",
              "      display: none;\n",
              "      fill: #1967D2;\n",
              "      height: 32px;\n",
              "      padding: 0 0 0 0;\n",
              "      width: 32px;\n",
              "    }\n",
              "\n",
              "    .colab-df-convert:hover {\n",
              "      background-color: #E2EBFA;\n",
              "      box-shadow: 0px 1px 2px rgba(60, 64, 67, 0.3), 0px 1px 3px 1px rgba(60, 64, 67, 0.15);\n",
              "      fill: #174EA6;\n",
              "    }\n",
              "\n",
              "    [theme=dark] .colab-df-convert {\n",
              "      background-color: #3B4455;\n",
              "      fill: #D2E3FC;\n",
              "    }\n",
              "\n",
              "    [theme=dark] .colab-df-convert:hover {\n",
              "      background-color: #434B5C;\n",
              "      box-shadow: 0px 1px 3px 1px rgba(0, 0, 0, 0.15);\n",
              "      filter: drop-shadow(0px 1px 2px rgba(0, 0, 0, 0.3));\n",
              "      fill: #FFFFFF;\n",
              "    }\n",
              "  </style>\n",
              "\n",
              "      <script>\n",
              "        const buttonEl =\n",
              "          document.querySelector('#df-5fba7d0f-3458-4212-9bc6-a44b7755e75b button.colab-df-convert');\n",
              "        buttonEl.style.display =\n",
              "          google.colab.kernel.accessAllowed ? 'block' : 'none';\n",
              "\n",
              "        async function convertToInteractive(key) {\n",
              "          const element = document.querySelector('#df-5fba7d0f-3458-4212-9bc6-a44b7755e75b');\n",
              "          const dataTable =\n",
              "            await google.colab.kernel.invokeFunction('convertToInteractive',\n",
              "                                                     [key], {});\n",
              "          if (!dataTable) return;\n",
              "\n",
              "          const docLinkHtml = 'Like what you see? Visit the ' +\n",
              "            '<a target=\"_blank\" href=https://colab.research.google.com/notebooks/data_table.ipynb>data table notebook</a>'\n",
              "            + ' to learn more about interactive tables.';\n",
              "          element.innerHTML = '';\n",
              "          dataTable['output_type'] = 'display_data';\n",
              "          await google.colab.output.renderOutput(dataTable, element);\n",
              "          const docLink = document.createElement('div');\n",
              "          docLink.innerHTML = docLinkHtml;\n",
              "          element.appendChild(docLink);\n",
              "        }\n",
              "      </script>\n",
              "    </div>\n",
              "  </div>\n",
              "  "
            ]
          },
          "metadata": {},
          "execution_count": 5
        }
      ],
      "source": [
        "df.head()"
      ]
    },
    {
      "cell_type": "markdown",
      "metadata": {
        "id": "fZDTxR6wKuPO"
      },
      "source": [
        "## 데이터 나누기"
      ]
    },
    {
      "cell_type": "markdown",
      "metadata": {
        "id": "h5enxbYKbAhW"
      },
      "source": [
        "### **주의 사항**\n",
        "train_test_split에 random seed를 사용하여 split set을 고정한다.\n",
        "- 모든 문제에 같은 random seed를 부여할 필요는 없다.\n"
      ]
    },
    {
      "cell_type": "code",
      "execution_count": 6,
      "metadata": {
        "id": "V1zQHUKdKWFz",
        "colab": {
          "base_uri": "https://localhost:8080/"
        },
        "outputId": "b99800ee-a370-4513-f602-44665d1d21a7"
      },
      "outputs": [
        {
          "output_type": "stream",
          "name": "stdout",
          "text": [
            "X_train's shape :  (800, 24)\n",
            "y_train's shape :  (800,)\n",
            "\n",
            "X_val's shape :  (100, 24)\n",
            "y_val's shape :  (100,)\n",
            "\n",
            "X_test's shape :  (100, 24)\n",
            "y_test's shape :  (100,)\n"
          ]
        }
      ],
      "source": [
        "from sklearn.model_selection import train_test_split\n",
        "\n",
        "X = df.drop('satisfaction', axis=1)\n",
        "y = df['satisfaction']\n",
        "y = y.astype('int')\n",
        "  \n",
        "X_train, X_test, y_train, y_test = train_test_split(X, y, test_size=0.1, random_state=1)\n",
        "X_train, X_val, y_train, y_val = train_test_split(X_train, y_train, test_size=1/9, random_state=1)\n",
        "\n",
        "print(\"X_train's shape : \", X_train.shape)\n",
        "print(\"y_train's shape : \", y_train.shape)\n",
        "print(\"\\nX_val's shape : \", X_val.shape)\n",
        "print(\"y_val's shape : \", y_val.shape)\n",
        "print(\"\\nX_test's shape : \", X_test.shape)\n",
        "print(\"y_test's shape : \", y_test.shape)"
      ]
    },
    {
      "cell_type": "markdown",
      "metadata": {
        "id": "P5Gr-LZOLCSP"
      },
      "source": [
        "## 문제1 KNN\n",
        "\n",
        "\n",
        "\n",
        "- Scikit-learn 라이브러리를 이용하여 KNN의 최적의 파라미터를 찾는다.\n",
        "    - 최근접 이웃을 찾기 위한 거리의 종류로 최소한 두 가지 이상의 거리 척도를 사용한다.\n",
        "    - K값을 최소 3개 이상 비교한다.\n",
        "    - 거리 척도, k값에 따라 train, validation 정확도를 한 그래프로 그린다.(x축 k값, y축 정확도)\n",
        "    - 찾은 최적의 파라미터와 test set 이용하여 test_accuracy 계산하고 기입한다.\n",
        "    - 최적의 파라미터를 찾은 것에 대한 설명을 '텍스트 셀'에 작성한다.\n",
        "\n"
      ]
    },
    {
      "cell_type": "code",
      "execution_count": 7,
      "metadata": {
        "id": "vVbdK0ERLSq6"
      },
      "outputs": [],
      "source": [
        "from sklearn.neighbors import KNeighborsClassifier\n",
        "from sklearn import metrics\n",
        "import matplotlib.pyplot as plt"
      ]
    },
    {
      "cell_type": "code",
      "execution_count": 8,
      "metadata": {
        "id": "ME76ne9cdSMa",
        "colab": {
          "base_uri": "https://localhost:8080/",
          "height": 669
        },
        "outputId": "bc9df000-e903-43de-9744-21dfe4e03a89"
      },
      "outputs": [
        {
          "output_type": "display_data",
          "data": {
            "text/plain": [
              "<Figure size 720x360 with 1 Axes>"
            ],
            "image/png": "[encoded data removed]"
          },
          "metadata": {
            "needs_background": "light"
          }
        },
        {
          "output_type": "display_data",
          "data": {
            "text/plain": [
              "<Figure size 720x360 with 1 Axes>"
            ],
            "image/png": "[encoded data removed]"
          },
          "metadata": {
            "needs_background": "light"
          }
        },
        {
          "output_type": "stream",
          "name": "stdout",
          "text": [
            "KNN Classifier의 Test Accuracy는 0.68\n"
          ]
        }
      ],
      "source": [
        "### 문제 1 ###\n",
        "### 코드 작성 ###\n",
        "k_parameter = range(1,31) # k 값을 1~30으로 변경하며 성능 체크.\n",
        "M_train_acc_list = []\n",
        "M_valid_acc_list = []\n",
        "\n",
        "for k in k_parameter:\n",
        "  model = KNeighborsClassifier(n_neighbors = k, p = 1) # Scikit-learn 라이브러리에 따르면 p=1일 경우, manhattan_distance\n",
        "\n",
        "  model.fit(X_train, y_train) # 모델 학습\n",
        "  predict = model.predict(X_val)\n",
        "\n",
        "  train_result = model.score(X_train, y_train)\n",
        "  M_train_acc_list.append(train_result)\n",
        "\n",
        "  valid_result = model.score(X_val, y_val)\n",
        "  M_valid_acc_list.append(valid_result)\n",
        "  \n",
        "\n",
        "plt.figure(figsize = (10,5))\n",
        "plt.plot(k_parameter, M_train_acc_list, label = 'train acc')\n",
        "plt.plot(k_parameter, M_valid_acc_list, label = 'valid acc')\n",
        "plt.xlabel('K') # x축 이름 지정\n",
        "plt.ylabel('Accuracy') # y축  이름 지정\n",
        "plt.grid() # 눈금 표시\n",
        "plt.xticks(range(1,31,3)) # 간격 지정\n",
        "plt.legend() # 범례 표시\n",
        "plt.show()\n",
        "\n",
        "E_train_acc_list = []\n",
        "E_valid_acc_list = []\n",
        "\n",
        "for k in k_parameter:\n",
        "  model = KNeighborsClassifier(n_neighbors = k, p = 2) # Scikit-learn 라이브러리에 따르면 p=2일 경우, euclidean_distance\n",
        "\n",
        "  model.fit(X_train, y_train) # 모델 학습\n",
        "  predict = model.predict(X_val)\n",
        "\n",
        "  train_result = model.score(X_train, y_train)\n",
        "  E_train_acc_list.append(train_result)\n",
        "\n",
        "  valid_result = model.score(X_val, y_val)\n",
        "  E_valid_acc_list.append(valid_result)\n",
        "\n",
        "plt.figure(figsize = (10,5))\n",
        "plt.plot(k_parameter, E_train_acc_list, label = 'train acc')\n",
        "plt.plot(k_parameter, E_valid_acc_list, label = 'valid acc')\n",
        "plt.xlabel('K') # x축 이름 지정\n",
        "plt.ylabel('Accuracy') # y축  이름 지정\n",
        "plt.grid() # 눈금 표시\n",
        "plt.xticks(range(1,31,3)) # 간격 지정\n",
        "plt.legend() # 범례 표시\n",
        "plt.show()\n",
        "\n",
        "# 찾은 최적의 파라미터와 test set 이용하여 test_accuracy 계산\n",
        "final_X = df.drop('satisfaction', axis=1)\n",
        "final_y = df['satisfaction']\n",
        "final_y = y.astype('int')\n",
        "\n",
        "  \n",
        "final_X_train, final_X_test, final_y_train, final_y_test = train_test_split(X, y, test_size=0.1, random_state=1) # 최종 학습을 위해 train set과 validation set 통합. 즉, 처음 상태로 설정.\n",
        "\n",
        "best_knn = KNeighborsClassifier(n_neighbors = 7, p = 1)\n",
        "best_knn.fit(final_X_train, final_y_train)\n",
        "knn_pred = best_knn.predict(final_X_test)\n",
        "\n",
        "print('KNN Classifier의 Test Accuracy는',metrics.accuracy_score(final_y_test, knn_pred))"
      ]
    },
    {
      "cell_type": "markdown",
      "metadata": {
        "id": "8-BMEqCFdfsR"
      },
      "source": [
        "**설명 작성**  \n",
        "- 최적의 파라미터: 거리척도는 Manhattan distance, k는 7.\n",
        "- 설명: train accuracy는 두가지 거리척도에 따라 측정했을 때, train accuracy는 모두 k=1일 때가 가장 좋았지만 이를 선택할 경우 overfitting이 된다. 따라서 validation accuracy가 가장 좋은 지점을 선택해야 한다. 두 그래프의 큰 차이는 없으나 비교 결과 거리척도는 Manhattan distance, k는 7일때가 가장 validation accuracy가 높으므로 이 때의 파라미터들을 선택한다."
      ]
    },
    {
      "cell_type": "markdown",
      "metadata": {
        "id": "mZkD2D1i4Zli"
      },
      "source": [
        "---"
      ]
    },
    {
      "cell_type": "markdown",
      "metadata": {
        "id": "7OMvtg924Zli"
      },
      "source": [
        "## 문제2 Random Forest\n",
        "\n",
        "\n",
        "- Scikit-learn 라이브러리를 이용하여 Random Forest의 최적의 파라미터를 찾는다.\n",
        "    - Criterion 중 최소 두개를 비교한다.\n",
        "    - 최적의 파라미터 max depth 값을 찾는다.\n",
        "    - 파라미터에 따라 train, validation 정확도를 한 그래프로 그린다.(x축 max depth 값, y축 정확도)\n",
        "    - 찾은 최적의 파라미터와 test set을 이용하여 test accuracy를 계산하고 기입한다.\n",
        "    - 최적의 파라미터를 찾은 것에 대한 설명을 '텍스트 셀'에 작성한다."
      ]
    },
    {
      "cell_type": "code",
      "execution_count": 9,
      "metadata": {
        "id": "IttBH6C94Zli"
      },
      "outputs": [],
      "source": [
        "from sklearn.ensemble import RandomForestClassifier"
      ]
    },
    {
      "cell_type": "code",
      "execution_count": 10,
      "metadata": {
        "id": "C153cWxK4Zli",
        "colab": {
          "base_uri": "https://localhost:8080/",
          "height": 669
        },
        "outputId": "dff622d3-43cc-45a2-c22e-39b2120e8dea"
      },
      "outputs": [
        {
          "output_type": "display_data",
          "data": {
            "text/plain": [
              "<Figure size 720x360 with 1 Axes>"
            ],
            "image/png": "[encoded data removed]"
          },
          "metadata": {
            "needs_background": "light"
          }
        },
        {
          "output_type": "display_data",
          "data": {
            "text/plain": [
              "<Figure size 720x360 with 1 Axes>"
            ],
            "image/png": "[encoded data removed]"
          },
          "metadata": {
            "needs_background": "light"
          }
        },
        {
          "output_type": "stream",
          "name": "stdout",
          "text": [
            "RandomForest Classifier의 Test Accuracy는 0.95\n"
          ]
        }
      ],
      "source": [
        "### 문제 2 ###\n",
        "### 코드 작성 ###\n",
        "depth_parameter = range(1,16) # depth 값을 1~15로 변경하며 성능 체크.\n",
        "\n",
        "gini_train_acc_list = []\n",
        "gini_valid_acc_list = []\n",
        "\n",
        "for d in depth_parameter:\n",
        "  model = RandomForestClassifier(criterion = 'gini', max_depth = d, random_state=10) # criterion = 'gini'일 경우이며 random_state를 고정해 같은 결과를 볼 수 있게 함.\n",
        "\n",
        "  model.fit(X_train, y_train) # 모델 학습\n",
        "  predict = model.predict(X_val)\n",
        "\n",
        "  train_result = model.score(X_train, y_train)\n",
        "  gini_train_acc_list.append(train_result)\n",
        "\n",
        "  valid_result = model.score(X_val, y_val)\n",
        "  gini_valid_acc_list.append(valid_result)\n",
        "  \n",
        "\n",
        "plt.figure(figsize = (10,5))\n",
        "plt.plot(depth_parameter, gini_train_acc_list, label = 'train acc')\n",
        "plt.plot(depth_parameter, gini_valid_acc_list, label = 'valid acc')\n",
        "plt.xlabel('Max Depth') # x축 이름 지정\n",
        "plt.ylabel('Accuracy') # y축  이름 지정\n",
        "plt.grid() # 눈금 표시\n",
        "plt.xticks(range(1,16,2)) # 간격 지정\n",
        "plt.legend() # 범례 표시\n",
        "plt.show()\n",
        "\n",
        "\n",
        "entropy_train_acc_list = []\n",
        "entropy_valid_acc_list = []\n",
        "\n",
        "for d in depth_parameter:\n",
        "  model = RandomForestClassifier(criterion = 'entropy', max_depth = d, random_state=10) # criterion = 'entropy'일 경우\n",
        "\n",
        "  model.fit(X_train, y_train) # 모델 학습\n",
        "  predict = model.predict(X_val)\n",
        "\n",
        "  train_result = model.score(X_train, y_train)\n",
        "  entropy_train_acc_list.append(train_result)\n",
        "\n",
        "  valid_result = model.score(X_val, y_val)\n",
        "  entropy_valid_acc_list.append(valid_result)\n",
        "  \n",
        "\n",
        "plt.figure(figsize = (10,5))\n",
        "plt.plot(depth_parameter, entropy_train_acc_list, label = 'train acc')\n",
        "plt.plot(depth_parameter, entropy_valid_acc_list, label = 'valid acc')\n",
        "plt.xlabel('Max Depth') # x축 이름 지정\n",
        "plt.ylabel('Accuracy') # y축  이름 지정\n",
        "plt.grid() # 눈금 표시\n",
        "plt.xticks(range(1,16,2)) # 간격 지정\n",
        "plt.legend() # 범례 표시\n",
        "plt.show()\n",
        "\n",
        "\n",
        "best_rf = RandomForestClassifier(criterion = 'entropy', max_depth = 8, random_state=10)\n",
        "best_rf.fit(final_X_train, final_y_train) # 최종 학습을 위해 train set과 validation set이 통합된 최종 training data set 사용.\n",
        "\n",
        "rf_pred = best_rf.predict(final_X_test)\n",
        "\n",
        "print('RandomForest Classifier의 Test Accuracy는', metrics.accuracy_score(final_y_test, rf_pred))"
      ]
    },
    {
      "cell_type": "markdown",
      "metadata": {
        "id": "s4r40Dbu4Zli"
      },
      "source": [
        "**설명 작성**  \n",
        "- 최적의 파라미터: Criterion은 entropy, Max depth는 8.\n",
        "- 설명: 트리를 너무 깊게 만들면 training data에 overfitting되므로 적절히 설정해야 한다. 따라서 validation accuracy가 가장 높고, overfiiting하지 않을 수 있도록 Criterion은 entropy, Max depth는 8을 선택한다."
      ]
    },
    {
      "cell_type": "markdown",
      "metadata": {
        "id": "KvjjbqDB4Zli"
      },
      "source": [
        "---"
      ]
    },
    {
      "cell_type": "markdown",
      "metadata": {
        "id": "cl1b3f3AaZUw"
      },
      "source": [
        "## 문제3 Cross validation with Linear SVM\n",
        "### 3-1: k-fold\n",
        "- 수업시간에 배운 **5-fold** 를 이용하여 최적의 파라미터를 찾는다. (데이터는 동일)\n",
        "- 수업시간에 배운 linear SVM 모델의 파라미터 C를 cross-validation을 바탕으로 최적화한다.\n",
        "    - **5-fold CV를 할 때, test data를 제외한 90%의 데이터를 사용해야한다.**\n",
        "    - 파라미터에 따라 K-fold CV를 통해 나온 평균 정확도와 각 fold의 정확도들을 한 그래프로 그린다.(x축 선택한 파라미터, y축 정확도)\n",
        "    - 찾은 최적의 파라미터와 test set을 이용하여 test accuracy를 계산하고 기입한다.\n",
        "    - 최적의 파라미터를 찾은 것에 대한 설명을 '텍스트 셀'에 작성한다.\n",
        "\n",
        "### 3-2: Leave One Out\n",
        "- 수업시간에 배운 Leave-One-Out 를 이용하여 최적의 파라미터를 찾는다. (데이터는 동일)\n",
        "- 수업시간에 배운 linear SVM 모델의 파라미터 C를 cross-validation을 바탕으로 최적화한다.\n",
        "  - **Leave-One-Out CV를 할 때, test data를 제외한 90%의 데이터를 사용해야한다.**\n",
        "  - 파라미터에 따라 Leave-One-Out CV를 통해 나온 평균 정확도를 그래프로 그린다.(x축 선택한 파라미터, y축 정확도)\n",
        "  - 찾은 최적의 파라미터와 test set을 이용하여 test accuracy를 계산하고 기입한다.\n",
        "  - 최적의 파라미터를 찾은 것에 대한 설명을 '텍스트 셀'에 작성한다."
      ]
    },
    {
      "cell_type": "code",
      "execution_count": 11,
      "metadata": {
        "id": "fYNny36efEF3",
        "colab": {
          "base_uri": "https://localhost:8080/",
          "height": 1000
        },
        "outputId": "53dde75e-dbfe-4595-aa31-c0d8491b9b0b"
      },
      "outputs": [
        {
          "output_type": "display_data",
          "data": {
            "text/plain": [
              "<Figure size 720x360 with 1 Axes>"
            ],
            "image/png": "[encoded data removed]"
          },
          "metadata": {
            "needs_background": "light"
          }
        },
        {
          "output_type": "stream",
          "name": "stdout",
          "text": [
            "5-fold CV를 할 때, C=0.1일 경우 각 fold의 정확도는 [0.80555556 0.83333333 0.87777778 0.82222222 0.83888889] 이다.\n",
            "그 때의 평균 정확도는 0.8355555555555554 이다.\n",
            "\n",
            "\n"
          ]
        },
        {
          "output_type": "display_data",
          "data": {
            "text/plain": [
              "<Figure size 720x360 with 1 Axes>"
            ],
            "image/png": "[encoded data removed]"
          },
          "metadata": {
            "needs_background": "light"
          }
        },
        {
          "output_type": "stream",
          "name": "stdout",
          "text": [
            "5-fold CV를 할 때, C=1일 경우 각 fold의 정확도는 [0.80555556 0.82222222 0.89444444 0.83333333 0.81666667] 이다.\n",
            "그 때의 평균 정확도는 0.8344444444444445 이다.\n",
            "\n",
            "\n"
          ]
        },
        {
          "output_type": "display_data",
          "data": {
            "text/plain": [
              "<Figure size 720x360 with 1 Axes>"
            ],
            "image/png": "[encoded data removed]"
          },
          "metadata": {
            "needs_background": "light"
          }
        },
        {
          "output_type": "stream",
          "name": "stdout",
          "text": [
            "5-fold CV를 할 때, C=10일 경우 각 fold의 정확도는 [0.81111111 0.84444444 0.88333333 0.82222222 0.83888889] 이다.\n",
            "그 때의 평균 정확도는 0.8399999999999999 이다.\n",
            "\n",
            "\n",
            "linear SVM Classifier(by 5-fold CV)의 Test Accuracy는 0.83\n"
          ]
        }
      ],
      "source": [
        "### 문제 3-1 ###\n",
        "### 코드 작성 ###\n",
        "from sklearn import model_selection\n",
        "from sklearn.svm import SVC\n",
        "from sklearn.model_selection import cross_val_score\n",
        "from sklearn.metrics import accuracy_score\n",
        "from sklearn.model_selection import KFold\n",
        "\n",
        "X_data = df.drop('satisfaction', axis=1)\n",
        "y_data = df['satisfaction']\n",
        "X_data = X_data.astype('int')\n",
        "y_data = y_data.astype('int')\n",
        "\n",
        "features = X_data.values\n",
        "target = y_data.values\n",
        "\n",
        "X_train, X_test, y_train, y_test = train_test_split(features, target, test_size=0.1, random_state=15) # train data로 test data를 제외한 90%의 데이터를 사용\n",
        "\n",
        "\n",
        "# linear SVM 모델의 파라미터 C가 0.1일 때\n",
        "C_value = 0.1\n",
        "clf = SVC(kernel='linear', C = C_value)\n",
        "kfold = model_selection.KFold(n_splits = 5, shuffle=True, random_state = 50)\n",
        "scores = cross_val_score(clf, X_train, y_train, scoring='accuracy', cv=kfold, n_jobs=-1)\n",
        "\n",
        "plt.figure(figsize = (10,5))\n",
        "plt.scatter(2, scores.mean(), label = 'mean acc') # 평균 값은 1개이므로 가운데에 점으로 표시\n",
        "plt.plot(scores, label = 'fold acc') # 5개의 fold별 정확도 표시\n",
        "plt.xlabel('C=0.1 (each fold)') # x축 이름 지정\n",
        "plt.ylabel('Accuracy') # y축  이름 지정\n",
        "plt.xticks(range(0,5)) # 간격 지정\n",
        "plt.legend() # 범례 표시\n",
        "plt.show()\n",
        "\n",
        "print('5-fold CV를 할 때, C=0.1일 경우 각 fold의 정확도는', scores, '이다.')\n",
        "print('그 때의 평균 정확도는', scores.mean(), '이다.\\n\\n') # C의 값이 달라짐에 따라 차이가 미세해 쉽게 알아볼 수 있도록 수치 표기\n",
        "\n",
        "\n",
        "# linear SVM 모델의 파라미터 C가 1일 때\n",
        "C_value = 1\n",
        "clf = SVC(kernel='linear', C = C_value)\n",
        "kfold = model_selection.KFold(n_splits = 5, shuffle=True, random_state = 50)\n",
        "scores = cross_val_score(clf, X_train, y_train, scoring='accuracy', cv=kfold, n_jobs=-1)\n",
        "\n",
        "plt.figure(figsize = (10,5))\n",
        "plt.scatter(2, scores.mean(), label = 'mean acc') # 평균 값은 1개이므로 가운데에 점으로 표시\n",
        "plt.plot(scores, label = 'fold acc') # 5개의 fold별 정확도 표시\n",
        "plt.xlabel('C=1 (each fold)') # x축 이름 지정\n",
        "plt.ylabel('Accuracy') # y축  이름 지정\n",
        "plt.xticks(range(0,5)) # 간격 지정\n",
        "plt.legend() # 범례 표시\n",
        "plt.show()\n",
        "\n",
        "print('5-fold CV를 할 때, C=1일 경우 각 fold의 정확도는', scores, '이다.')\n",
        "print('그 때의 평균 정확도는', scores.mean(), '이다.\\n\\n')\n",
        "\n",
        "\n",
        "# linear SVM 모델의 파라미터 C가 10일 때\n",
        "C_value = 10\n",
        "clf = SVC(kernel='linear', C = C_value)\n",
        "kfold = model_selection.KFold(n_splits = 5, shuffle=True, random_state = 50)\n",
        "scores = cross_val_score(clf, X_train, y_train, scoring='accuracy', cv=kfold, n_jobs=-1)\n",
        "\n",
        "plt.figure(figsize = (10,5))\n",
        "plt.scatter(2, scores.mean(), label = 'mean acc') # 평균 값은 1개이므로 가운데에 점으로 표시\n",
        "plt.plot(scores, label = 'fold acc') # 5개의 fold별 정확도 표시\n",
        "plt.xlabel('C=10 (each fold)') # x축 이름 지정\n",
        "plt.ylabel('Accuracy') # y축  이름 지정\n",
        "plt.xticks(range(0,5)) # 간격 지정\n",
        "plt.legend() # 범례 표시\n",
        "plt.show()\n",
        "\n",
        "print('5-fold CV를 할 때, C=10일 경우 각 fold의 정확도는', scores, '이다.')\n",
        "print('그 때의 평균 정확도는', scores.mean(), '이다.\\n\\n')\n",
        "\n",
        "best_kf = SVC(kernel='linear', C = 10)\n",
        "best_kf.fit(X_train, y_train)\n",
        "kf_pred = best_kf.predict(X_test)\n",
        "\n",
        "print('linear SVM Classifier(by 5-fold CV)의 Test Accuracy는',metrics.accuracy_score(y_test, kf_pred))\n"
      ]
    },
    {
      "cell_type": "markdown",
      "metadata": {
        "id": "2xvEdCHAfH0g"
      },
      "source": [
        "**설명 작성**  \n",
        "- 최적의 파라미터: C=10.\n",
        "- 설명: C=0.1, 1, 10일 때를 비교한 결과 C=10일 경우에 평균 accuracy가 가장 좋았기 때문에 이 파라미터를 선택했다. \n"
      ]
    },
    {
      "cell_type": "code",
      "execution_count": 12,
      "metadata": {
        "id": "80a5iRmvfG6H",
        "colab": {
          "base_uri": "https://localhost:8080/",
          "height": 352
        },
        "outputId": "127894de-151b-4766-f184-70d8fda48c70"
      },
      "outputs": [
        {
          "output_type": "display_data",
          "data": {
            "text/plain": [
              "<Figure size 720x360 with 1 Axes>"
            ],
            "image/png": "[encoded data removed]"
          },
          "metadata": {
            "needs_background": "light"
          }
        },
        {
          "output_type": "stream",
          "name": "stdout",
          "text": [
            "linear SVM Classifier(by LOOCV)의 Test Accuracy는 0.76\n"
          ]
        }
      ],
      "source": [
        "### 문제 3-2 ###\n",
        "### 코드 작성 ###\n",
        "from sklearn.model_selection import LeaveOneOut\n",
        "\n",
        "#X_data = df.drop('satisfaction', axis=1) # 이럴 경우, 예상 불가할 정도로 runtime이 길어져 feature를 임의적으로 선택함.\n",
        "X_data = df[['Gender', 'Age', 'Class']] # 런타임이 너무 길게 나와 특정 feature들만 추출\n",
        "y_data = df['satisfaction']\n",
        "X_data = X_data.astype('int')\n",
        "y_data = y_data.astype('int')\n",
        "\n",
        "features = X_data.values\n",
        "target = y_data.values\n",
        "\n",
        "X_train, X_test, y_train, y_test = train_test_split(features, target, test_size=0.1, random_state=15) # train data로 test data를 제외한 90%의 데이터를 사용\n",
        "\n",
        "c_parameter = [0.1, 1, 10]\n",
        "loo_mean_list = []\n",
        "\n",
        "# C= 0.1, 1, 10일 때를 비교\n",
        "for c in c_parameter:\n",
        "  clf = SVC(kernel='linear', C = c)\n",
        "  loocv = LeaveOneOut()\n",
        "  scores_loocv = cross_val_score(clf, X_train, y_train, scoring='accuracy', cv = loocv, n_jobs=-1)\n",
        "  loo_mean_list.append(scores_loocv.mean())\n",
        "\n",
        "plt.figure(figsize = (10,5))\n",
        "plt.plot(c_parameter, loo_mean_list, 'bo-', label = 'mean acc') # C 값에 따라 평균 정확도를 그래프로 나타냄. 선택한 C 값만을 알아볼 수 있도록 점으로 추가 표시함\n",
        "plt.xlabel('C') # x축 이름 지정\n",
        "plt.ylabel('Accuracy') # y축  이름 지정\n",
        "plt.grid() # 눈금 표시\n",
        "plt.legend() # 범례 표시\n",
        "plt.show()\n",
        "\n",
        "best_loo = SVC(kernel='linear', C = 10)\n",
        "best_loo.fit(X_train, y_train)\n",
        "loo_pred = best_loo.predict(X_test)\n",
        "\n",
        "print('linear SVM Classifier(by LOOCV)의 Test Accuracy는',metrics.accuracy_score(y_test, loo_pred))"
      ]
    },
    {
      "cell_type": "markdown",
      "metadata": {
        "id": "m9BqByTFfLIG"
      },
      "source": [
        "**설명 작성**  \n",
        "- 최적의 파라미터: C=10.\n",
        "- 설명: 우선, 24개의 feature 그대로 진행할 경우 runtime이 끝도 없이 길어져 임의로 3개의 feature만을 남기고 진행했다. C=0.1, 1, 10일 때를 비교해본 결과 C=10일 때가 가장 좋은 평균 정확도를 나타냈다. 따라서 최적의 파라미터로 C=10일 경우를 택했다."
      ]
    },
    {
      "cell_type": "markdown",
      "metadata": {
        "id": "szX5GgcXfnM1"
      },
      "source": [
        "## 문제4 Regression\n",
        "문제 4 에서는 캘리포니아 주택 가격 데이터셋을 사용합니다.   \n",
        "학습을 통해 주택 가격을 예측하는 문제입니다.  \n",
        "데이터에 대한 자세한 설명은 아래 코드의 description을 참고해주세요."
      ]
    },
    {
      "cell_type": "code",
      "execution_count": 13,
      "metadata": {
        "id": "Gwwkd_GO4Zlj",
        "colab": {
          "base_uri": "https://localhost:8080/"
        },
        "outputId": "300ac631-1821-4a79-d1a0-af82fc34a056"
      },
      "outputs": [
        {
          "output_type": "stream",
          "name": "stdout",
          "text": [
            ".. _california_housing_dataset:\n",
            "\n",
            "California Housing dataset\n",
            "--------------------------\n",
            "\n",
            "**Data Set Characteristics:**\n",
            "\n",
            "    :Number of Instances: 20640\n",
            "\n",
            "    :Number of Attributes: 8 numeric, predictive attributes and the target\n",
            "\n",
            "    :Attribute Information:\n",
            "        - MedInc        median income in block group\n",
            "        - HouseAge      median house age in block group\n",
            "        - AveRooms      average number of rooms per household\n",
            "        - AveBedrms     average number of bedrooms per household\n",
            "        - Population    block group population\n",
            "        - AveOccup      average number of household members\n",
            "        - Latitude      block group latitude\n",
            "        - Longitude     block group longitude\n",
            "\n",
            "    :Missing Attribute Values: None\n",
            "\n",
            "This dataset was obtained from the StatLib repository.\n",
            "https://www.dcc.fc.up.pt/~ltorgo/Regression/cal_housing.html\n",
            "\n",
            "The target variable is the median house value for California districts,\n",
            "expressed in hundreds of thousands of dollars ($100,000).\n",
            "\n",
            "This dataset was derived from the 1990 U.S. census, using one row per census\n",
            "block group. A block group is the smallest geographical unit for which the U.S.\n",
            "Census Bureau publishes sample data (a block group typically has a population\n",
            "of 600 to 3,000 people).\n",
            "\n",
            "An household is a group of people residing within a home. Since the average\n",
            "number of rooms and bedrooms in this dataset are provided per household, these\n",
            "columns may take surpinsingly large values for block groups with few households\n",
            "and many empty houses, such as vacation resorts.\n",
            "\n",
            "It can be downloaded/loaded using the\n",
            ":func:`sklearn.datasets.fetch_california_housing` function.\n",
            "\n",
            ".. topic:: References\n",
            "\n",
            "    - Pace, R. Kelley and Ronald Barry, Sparse Spatial Autoregressions,\n",
            "      Statistics and Probability Letters, 33 (1997) 291-297\n",
            "\n"
          ]
        }
      ],
      "source": [
        "from sklearn.datasets import fetch_california_housing\n",
        "housing = fetch_california_housing()\n",
        "print(housing.DESCR)"
      ]
    },
    {
      "cell_type": "code",
      "execution_count": 14,
      "metadata": {
        "id": "beqDbNzQi0PR"
      },
      "outputs": [],
      "source": [
        "df = pd.DataFrame(housing.data, columns=housing.feature_names)\n",
        "df['target'] = housing.target"
      ]
    },
    {
      "cell_type": "code",
      "execution_count": 15,
      "metadata": {
        "id": "Y-4fgqWCkd-o",
        "colab": {
          "base_uri": "https://localhost:8080/"
        },
        "outputId": "50ebee1a-4722-474c-ea97-3a0377d24d69"
      },
      "outputs": [
        {
          "output_type": "stream",
          "name": "stdout",
          "text": [
            "   MedInc  HouseAge  AveRooms  AveBedrms  Population  AveOccup  Latitude  \\\n",
            "0  8.3252      41.0  6.984127   1.023810       322.0  2.555556     37.88   \n",
            "1  8.3014      21.0  6.238137   0.971880      2401.0  2.109842     37.86   \n",
            "2  7.2574      52.0  8.288136   1.073446       496.0  2.802260     37.85   \n",
            "3  5.6431      52.0  5.817352   1.073059       558.0  2.547945     37.85   \n",
            "4  3.8462      52.0  6.281853   1.081081       565.0  2.181467     37.85   \n",
            "\n",
            "   Longitude  target  \n",
            "0    -122.23   4.526  \n",
            "1    -122.22   3.585  \n",
            "2    -122.24   3.521  \n",
            "3    -122.25   3.413  \n",
            "4    -122.25   3.422  \n"
          ]
        }
      ],
      "source": [
        "print(df.head())"
      ]
    },
    {
      "cell_type": "code",
      "execution_count": 16,
      "metadata": {
        "id": "zoUn3ZXdkimJ",
        "colab": {
          "base_uri": "https://localhost:8080/"
        },
        "outputId": "2082de1b-8b85-4eb9-a37c-cc928b0ad36d"
      },
      "outputs": [
        {
          "output_type": "stream",
          "name": "stdout",
          "text": [
            "(20640, 9)\n",
            "             MedInc      HouseAge      AveRooms     AveBedrms    Population  \\\n",
            "count  20640.000000  20640.000000  20640.000000  20640.000000  20640.000000   \n",
            "mean       3.870671     28.639486      5.429000      1.096675   1425.476744   \n",
            "std        1.899822     12.585558      2.474173      0.473911   1132.462122   \n",
            "min        0.499900      1.000000      0.846154      0.333333      3.000000   \n",
            "25%        2.563400     18.000000      4.440716      1.006079    787.000000   \n",
            "50%        3.534800     29.000000      5.229129      1.048780   1166.000000   \n",
            "75%        4.743250     37.000000      6.052381      1.099526   1725.000000   \n",
            "max       15.000100     52.000000    141.909091     34.066667  35682.000000   \n",
            "\n",
            "           AveOccup      Latitude     Longitude        target  \n",
            "count  20640.000000  20640.000000  20640.000000  20640.000000  \n",
            "mean       3.070655     35.631861   -119.569704      2.068558  \n",
            "std       10.386050      2.135952      2.003532      1.153956  \n",
            "min        0.692308     32.540000   -124.350000      0.149990  \n",
            "25%        2.429741     33.930000   -121.800000      1.196000  \n",
            "50%        2.818116     34.260000   -118.490000      1.797000  \n",
            "75%        3.282261     37.710000   -118.010000      2.647250  \n",
            "max     1243.333333     41.950000   -114.310000      5.000010  \n"
          ]
        }
      ],
      "source": [
        "print(df.shape) #(20640, 9)\n",
        "print(df.describe())"
      ]
    },
    {
      "cell_type": "markdown",
      "metadata": {
        "id": "3U8somVc4Zlk"
      },
      "source": [
        "### 문제 4-1 : Adjusted R2 Score\n",
        "- sklearn.metrics 패키지를 사용하여 ```def adjr2```에 Adjusted R2 Score를 구하는 함수를 작성한다.\n",
        "- ```def r2```를 사용하여 ```adjr2```를 구현한다.\n",
        "- 코드 작성 영역 이외의 코드를 수정하지 않는다.\n",
        "- 주어진 함수 파라미터를 사용하여 구현한다."
      ]
    },
    {
      "cell_type": "code",
      "execution_count": 17,
      "metadata": {
        "id": "JbGUADBK4Zlk"
      },
      "outputs": [],
      "source": [
        "from sklearn.metrics import r2_score"
      ]
    },
    {
      "cell_type": "code",
      "execution_count": 18,
      "metadata": {
        "id": "WvqWUQl24Zlk"
      },
      "outputs": [],
      "source": [
        "import numpy as np\n",
        "\n",
        "def r2(actual, predicted):\n",
        "    \"\"\" R2 Score \"\"\"\n",
        "    return r2_score(actual, predicted)\n",
        "\n",
        "###################################\n",
        "def adjr2(actual, predicted, rowcount, featurecount):\n",
        "############ 문제 4-1 ##############\n",
        "    \"\"\" Adjusted R2 Score \"\"\"\n",
        "    return 1 - ((1-r2(actual,predicted))*(rowcount-1) / (rowcount-featurecount-1))\n",
        "\n",
        "####################################\n",
        "####################################"
      ]
    },
    {
      "cell_type": "markdown",
      "metadata": {
        "id": "P-6ZikyP4Zlk"
      },
      "source": [
        "### 문제 4-2 : Feature Selection\n",
        "- sklearn 패키지를 사용하여 feature selection을 수행하는 함수 ```forward_selection```을 구현한다.\n",
        "- Linear Regressor 을 사용하여 feature selection이 어떻게 달라지는 지 관찰한다.\n",
        "- 코드 작성 영역 이외의 코드를 수정하지 않는다.\n",
        "- 주어진 변수들, 자료들을 최대한 활용하여 코드를 작성한다."
      ]
    },
    {
      "cell_type": "code",
      "execution_count": 19,
      "metadata": {
        "id": "WjqDsXSA4Zlk"
      },
      "outputs": [],
      "source": [
        "from sklearn.linear_model import LinearRegression\n",
        "import pandas as pd"
      ]
    },
    {
      "cell_type": "code",
      "execution_count": 20,
      "metadata": {
        "id": "oUf_G0iF4Zlk",
        "colab": {
          "base_uri": "https://localhost:8080/"
        },
        "outputId": "c0e32269-0604-42f6-aa25-906331a15c0c"
      },
      "outputs": [
        {
          "output_type": "stream",
          "name": "stdout",
          "text": [
            "(20640, 8)\n",
            "(20640,)\n"
          ]
        }
      ],
      "source": [
        "X = df.drop(columns=['target'])\n",
        "y = df['target']\n",
        "y=y.astype('int')\n",
        "print(X.shape)\n",
        "print(y.shape)"
      ]
    },
    {
      "cell_type": "code",
      "execution_count": 21,
      "metadata": {
        "collapsed": true,
        "id": "tAQiA64x4Zlk",
        "colab": {
          "base_uri": "https://localhost:8080/"
        },
        "outputId": "b20a9f8a-fb12-490e-f445-b0849f4e6ed0"
      },
      "outputs": [
        {
          "output_type": "stream",
          "name": "stdout",
          "text": [
            "selected_features: ['MedInc', 'HouseAge', 'Latitude', 'Longitude', 'AveBedrms', 'AveRooms', 'AveOccup']\n"
          ]
        }
      ],
      "source": [
        "def forward_selection(X, y): # X: train data, y: train data's target\n",
        "    initial_list = []\n",
        "    included = list(initial_list) # 포함되어야 하는 feature\n",
        "    best_r2 = 0 # 가장 높은 r2 score를 저장\n",
        "\n",
        "    while True:\n",
        "\n",
        "        changed = False # while 문을 빠져나가는 조건으로 활용\n",
        "        excluded = list(set(X.columns)-set(included)) # included list에 없는 column names 저장하는 리스트\n",
        "\n",
        "        new_scores = dict.fromkeys(excluded)\n",
        "\n",
        "        for new_column in excluded:\n",
        "            \n",
        "            model = LinearRegression()\n",
        "\n",
        "            ###########################################\n",
        "            ###### 코드 작성 영역 외 수정 하지 말 것 #########\n",
        "            ################ 문제 4-2 ##################\n",
        "            fit = model.fit(X[included + [new_column]], y) # 새로운 feature를 추가하여 학습\n",
        "\n",
        "            k = len(included + [new_column])\n",
        "            y_pred = model.predict(X[included + [new_column]]) # 새로운 모델 예측\n",
        "            temp = adjr2(y, y_pred, X.shape[0], k) # adjusted_r2 값을 temp에 넣음\n",
        "\n",
        "            if temp > best_r2: # max adjusted_r2와 비교\n",
        "              best_r2 = temp # 크면 max 값 change\n",
        "              best_feature = new_column\n",
        "              changed = True\n",
        "\n",
        "        if changed:\n",
        "          included.append(best_feature) # change면 성능이 좋아진 것이므로 feature 추가\n",
        "          excluded.remove(best_feature) # excluded list에선 해당 feature 삭제\n",
        "\n",
        "        else:\n",
        "          break # 아니면 멈춤\n",
        "\n",
        "        ##############################################\n",
        "        ##############################################\n",
        " \n",
        "    return included\n",
        "\n",
        "selected_features = forward_selection(X, y)\n",
        "print('selected_features:', selected_features)"
      ]
    },
    {
      "cell_type": "markdown",
      "metadata": {
        "id": "0OGUhsrgEwR_"
      },
      "source": [
        "### 문제 4-3: Regularized Model\n",
        "- Scikit-learn 라이브러리를 사용하여 Ridge Regression과 Lasso Regression 모델을 만든다.\n",
        "- train : validation : test **데이터셋의 비율을 8:1:1**로 설정한다.\n",
        "- 문제 4-1의 **forward selection을 통해 얻은 feature만**을 가진 데이터를 사용한다.\n",
        "- 다양한 alpha 값에 대해 validation dataset을 사용하여 각 모델에 대한 **최적의 alpha 값을 찾고 찾은 최적의 alpha 값을 텍스트 셀에 작성**한다.\n",
        "- alpha 값은 아래의 리스트를 사용한다.  \n",
        "```alpha = [0.0001, 0.001,0.01,0.1,1,10, 100, 1000, 10000, 100000]```\n",
        "- alpha 값에 대한 R2 score의 변화를 그래프로 나타낸다.\n",
        "  * **x축: alpha 값**\n",
        "  * **y축: R2 score 값**\n",
        "  * 파란색 선: Ridge 결과, 빨간색 선: Lasso 결과\n",
        "  * 그래프에 **legend**가 포함되어 있어야 한다. \n",
        "- **train과 validation dataset을 합하여 train set을 만든 후 최종 학습 결과를 도출**한다.\n",
        "  * 최적의 alpha 값을 찾을 때 사용한 test set은 변하지 않는다. \n",
        "  * r2 score를 사용하여 train set에 대한 prediction 결과와 test set에 대한 prediction 결과를 구해 print 한다."
      ]
    },
    {
      "cell_type": "code",
      "execution_count": 22,
      "metadata": {
        "id": "NEx72fQh4Zll"
      },
      "outputs": [],
      "source": [
        "from sklearn.linear_model import LinearRegression, Ridge, Lasso\n",
        "from sklearn.metrics import r2_score\n",
        "import numpy as np"
      ]
    },
    {
      "cell_type": "code",
      "execution_count": 23,
      "metadata": {
        "id": "2ZJbj9r2Z4LP"
      },
      "outputs": [],
      "source": [
        "### 문제 4-3 ###\n",
        "### 코드 작성 ###\n",
        "X = df[['MedInc', 'HouseAge', 'Latitude', 'Longitude', 'AveBedrms', 'AveRooms', 'AveOccup']] # forward selection을 통해 얻은 feature만을 가진 데이터를 사용\n",
        "y = df['target']\n",
        "y=y.astype('int')\n",
        "\n",
        "X_train, X_test, y_train, y_test = train_test_split(X, y, test_size=0.1, random_state=0)\n",
        "X_train, X_val, y_train, y_val = train_test_split(X_train, y_train, test_size=1/9, random_state=0) # train : validation : test 데이터셋의 비율을 8:1:1로 설정\n",
        "\n",
        "alphas = [0.0001, 0.001,0.01,0.1,1,10, 100, 1000, 10000, 100000]\n",
        "\n",
        "ridge_r2_list = []\n",
        "lasso_r2_list = []\n",
        "\n",
        "for a in alphas:\n",
        "    ridge = Ridge(alpha=a)\n",
        "    ridge.fit(X_train, y_train) # 모델 학습\n",
        "    predicted = ridge.predict(X_val) # 검증\n",
        "    r = r2(y_val, predicted) # r2값 계산\n",
        "    ridge_r2_list.append(r) # 각 alpha 값마다 r2 매칭\n",
        "\n",
        "for a in alphas:\n",
        "  lasso = Lasso(alpha=a)\n",
        "  lasso.fit(X_train, y_train)\n",
        "  predicted = lasso.predict(X_val)\n",
        "  r = r2(y_val, predicted)\n",
        "  lasso_r2_list.append(r)"
      ]
    },
    {
      "cell_type": "code",
      "execution_count": 24,
      "metadata": {
        "id": "Ym11BIQD4Zll",
        "colab": {
          "base_uri": "https://localhost:8080/",
          "height": 334
        },
        "outputId": "6109fb98-59bc-4212-c35c-4b694dc05dcd"
      },
      "outputs": [
        {
          "output_type": "display_data",
          "data": {
            "text/plain": [
              "<Figure size 720x360 with 1 Axes>"
            ],
            "image/png": "[encoded data removed]"
          },
          "metadata": {
            "needs_background": "light"
          }
        }
      ],
      "source": [
        "### 문제 4-3 ###\n",
        "### 그래프 작성 ###\n",
        "plt.figure(figsize = (10,5))\n",
        "plt.plot(alphas, ridge_r2_list, 'b-', label = 'Ridge') # Ridge의 R2 score의 변화\n",
        "plt.plot(alphas, lasso_r2_list, 'r-', label = 'Lasso') # Lasso의 R2 score의 변화\n",
        "plt.xlabel('alpha') # x축 이름 지정\n",
        "plt.ylabel('R2 score') # y축  이름 지정\n",
        "#plt.xticks(range(0,5)) # 간격 지정\n",
        "plt.legend() # 범례 표시\n",
        "plt.show()"
      ]
    },
    {
      "cell_type": "markdown",
      "metadata": {
        "id": "DS8x1JmkZ6Yl"
      },
      "source": [
        "- Rridge regression 모델 최적의 alpha 값: 0.0001\n",
        "- Lasso regression 모델 최적의 alpha 값: 0.0001"
      ]
    },
    {
      "cell_type": "code",
      "execution_count": 25,
      "metadata": {
        "id": "zio0ZtfdiXCF",
        "colab": {
          "base_uri": "https://localhost:8080/"
        },
        "outputId": "9787ef81-a129-4184-a5f8-496742e5c269"
      },
      "outputs": [
        {
          "output_type": "stream",
          "name": "stdout",
          "text": [
            "<Ridge>\n",
            "R2 score on training set: 0.5769025228154288\n",
            "R2 score on test set: 0.5816199851378894\n",
            "\n",
            "\n",
            "\n",
            "<Lasso>\n",
            "R2 score on training set: 0.5769022072132461\n",
            "R2 score on test set: 0.5815688966164896\n"
          ]
        }
      ],
      "source": [
        "# 최종 결과 출력\n",
        "from sklearn.metrics import mean_squared_error\n",
        "\n",
        "final_X = df[['MedInc', 'HouseAge', 'Latitude', 'Longitude', 'AveBedrms', 'AveRooms', 'AveOccup']]\n",
        "final_y = df['target']\n",
        "final_y = y.astype('int')\n",
        "\n",
        "X_train, X_test, y_train, y_test = train_test_split(X, y, test_size=0.1, random_state=0) # traing set, valid set 다시 합치기 위함.\n",
        "\n",
        "# Ridge\n",
        "best_ridge = Ridge(alpha=0.0001)\n",
        "best_ridge.fit(X_train, y_train) # 최종 학습을 위해 train set과 validation set이 통합된 최종 training data set 사용.\n",
        "\n",
        "r_predicted = best_ridge.predict(X_train)\n",
        "r_test_predicted = best_ridge.predict(X_test)\n",
        "\n",
        "print('<Ridge>')\n",
        "print('R2 score on training set:', r2_score(y_train, r_predicted))\n",
        "print('R2 score on test set:', r2_score(y_test, r_test_predicted)) # r2 score를 사용하여 train set에 대한 prediction 결과와 test set에 대한 prediction 결과를 구해 print\n",
        "\n",
        "print('\\n\\n')\n",
        "\n",
        "# Lasso\n",
        "best_lasso = Lasso(alpha=0.0001)\n",
        "best_lasso.fit(X_train, y_train) # 최종 학습을 위해 train set과 validation set이 통합된 최종 training data set 사용.\n",
        "\n",
        "l_predicted = best_lasso.predict(X_train)\n",
        "l_test_predicted = best_lasso.predict(X_test)\n",
        "\n",
        "print('<Lasso>')\n",
        "print('R2 score on training set:', r2_score(y_train, l_predicted))\n",
        "print('R2 score on test set:', r2_score(y_test, l_test_predicted)) # r2 score를 사용하여 train set에 대한 prediction 결과와 test set에 대한 prediction 결과를 구해 print\n"
      ]
    }
  ],
  "metadata": {
    "colab": {
      "collapsed_sections": [],
      "provenance": [],
      "include_colab_link": true
    },
    "interpreter": {
      "hash": "72f413c705acf8cc7ca758c5c7ce13adba655409ec2684a2da3bcb9a148f4862"
    },
    "kernelspec": {
      "display_name": "Python 3.8.13 ('aae')",
      "language": "python",
      "name": "python3"
    },
    "language_info": {
      "codemirror_mode": {
        "name": "ipython",
        "version": 3
      },
      "file_extension": ".py",
      "mimetype": "text/x-python",
      "name": "python",
      "nbconvert_exporter": "python",
      "pygments_lexer": "ipython3",
      "version": "3.8.13"
    },
    "vscode": {
      "interpreter": {
        "hash": "4df1aae1e0b0d359ea12b19172edf8042a617e338541b2db12efe6535537db04"
      }
    }
  },
  "nbformat": 4,
  "nbformat_minor": 0
}